{
  "cells": [
    {
      "cell_type": "markdown",
      "metadata": {
        "id": "view-in-github",
        "colab_type": "text"
      },
      "source": [
        "<a href=\"https://colab.research.google.com/github/MrSimple07/BigDataInfrastructure/blob/main/MariaDb.ipynb\" target=\"_parent\"><img src=\"https://colab.research.google.com/assets/colab-badge.svg\" alt=\"Open In Colab\"/></a>"
      ]
    },
    {
      "cell_type": "markdown",
      "metadata": {
        "id": "Zi3rKNhuM1SW"
      },
      "source": [
        "### Install MariaDB on Google Colab"
      ]
    },
    {
      "cell_type": "code",
      "execution_count": 2,
      "metadata": {
        "colab": {
          "base_uri": "https://localhost:8080/"
        },
        "id": "8NjKjpQ_K9Sd",
        "outputId": "442f3869-57db-4a6b-c7f8-6f945b0a8ee3"
      },
      "outputs": [
        {
          "output_type": "stream",
          "name": "stdout",
          "text": [
            "\r0% [Working]\r            \rHit:1 https://cloud.r-project.org/bin/linux/ubuntu jammy-cran40/ InRelease\n",
            "\r0% [Waiting for headers] [Connecting to security.ubuntu.com (185.125.190.39)] [Connecting to ppa.lau\r                                                                                                    \rHit:2 http://archive.ubuntu.com/ubuntu jammy InRelease\n",
            "\r0% [Waiting for headers] [Connecting to security.ubuntu.com (185.125.190.39)] [Connecting to ppa.lau\r                                                                                                    \rHit:3 https://developer.download.nvidia.com/compute/cuda/repos/ubuntu2204/x86_64  InRelease\n",
            "Get:4 http://archive.ubuntu.com/ubuntu jammy-updates InRelease [119 kB]\n",
            "Get:5 http://security.ubuntu.com/ubuntu jammy-security InRelease [110 kB]\n",
            "Hit:6 http://archive.ubuntu.com/ubuntu jammy-backports InRelease\n",
            "Hit:7 https://ppa.launchpadcontent.net/c2d4u.team/c2d4u4.0+/ubuntu jammy InRelease\n",
            "Hit:8 https://ppa.launchpadcontent.net/deadsnakes/ppa/ubuntu jammy InRelease\n",
            "Hit:9 https://ppa.launchpadcontent.net/graphics-drivers/ppa/ubuntu jammy InRelease\n",
            "Hit:10 https://ppa.launchpadcontent.net/ubuntugis/ppa/ubuntu jammy InRelease\n",
            "Fetched 229 kB in 1s (167 kB/s)\n",
            "Reading package lists... Done\n",
            "Reading package lists... Done\n",
            "Building dependency tree... Done\n",
            "Reading state information... Done\n",
            "mariadb-server is already the newest version (1:10.6.16-0ubuntu0.22.04.1).\n",
            "0 upgraded, 0 newly installed, 0 to remove and 45 not upgraded.\n"
          ]
        }
      ],
      "source": [
        "!apt-get update\n",
        "!apt-get install mariadb-server -y"
      ]
    },
    {
      "cell_type": "code",
      "execution_count": null,
      "metadata": {
        "colab": {
          "base_uri": "https://localhost:8080/"
        },
        "id": "2y-QT6hHK_B7",
        "outputId": "51d83a1d-a57f-4621-82e4-fa3b721ee270"
      },
      "outputs": [
        {
          "name": "stdout",
          "output_type": "stream",
          "text": [
            "240405 12:15:28 mysqld_safe Logging to syslog.\n",
            "240405 12:15:28 mysqld_safe A mysqld process already exists\n"
          ]
        }
      ],
      "source": [
        "!mysqld_safe &"
      ]
    },
    {
      "cell_type": "code",
      "execution_count": null,
      "metadata": {
        "colab": {
          "base_uri": "https://localhost:8080/"
        },
        "id": "LlBbL35XLbBF",
        "outputId": "aafc62a4-ba79-4c27-c07e-e70dbe7a9d9c"
      },
      "outputs": [
        {
          "name": "stdout",
          "output_type": "stream",
          "text": [
            "\n",
            "NOTE: RUNNING ALL PARTS OF THIS SCRIPT IS RECOMMENDED FOR ALL MariaDB\n",
            "      SERVERS IN PRODUCTION USE!  PLEASE READ EACH STEP CAREFULLY!\n",
            "\n",
            "In order to log into MariaDB to secure it, we'll need the current\n",
            "password for the root user. If you've just installed MariaDB, and\n",
            "haven't set the root password yet, you should just press enter here.\n",
            "\n",
            "Enter current password for root (enter for none): \n",
            "OK, successfully used password, moving on...\n",
            "\n",
            "Setting the root password or using the unix_socket ensures that nobody\n",
            "can log into the MariaDB root user without the proper authorisation.\n",
            "\n",
            "You already have your root account protected, so you can safely answer 'n'.\n",
            "\n",
            "Switch to unix_socket authentication [Y/n] n\n",
            " ... skipping.\n",
            "\n",
            "You already have your root account protected, so you can safely answer 'n'.\n",
            "\n",
            "Change the root password? [Y/n] n\n",
            " ... skipping.\n",
            "\n",
            "By default, a MariaDB installation has an anonymous user, allowing anyone\n",
            "to log into MariaDB without having to have a user account created for\n",
            "them.  This is intended only for testing, and to make the installation\n",
            "go a bit smoother.  You should remove them before moving into a\n",
            "production environment.\n",
            "\n",
            "Remove anonymous users? [Y/n] n\n",
            " ... skipping.\n",
            "\n",
            "Normally, root should only be allowed to connect from 'localhost'.  This\n",
            "ensures that someone cannot guess at the root password from the network.\n",
            "\n",
            "Disallow root login remotely? [Y/n] n\n",
            " ... skipping.\n",
            "\n",
            "By default, MariaDB comes with a database named 'test' that anyone can\n",
            "access.  This is also intended only for testing, and should be removed\n",
            "before moving into a production environment.\n",
            "\n",
            "Remove test database and access to it? [Y/n] n\n",
            " ... skipping.\n",
            "\n",
            "Reloading the privilege tables will ensure that all changes made so far\n",
            "will take effect immediately.\n",
            "\n",
            "Reload privilege tables now? [Y/n] n\n",
            " ... skipping.\n",
            "\n",
            "Cleaning up...\n",
            "\n",
            "All done!  If you've completed all of the above steps, your MariaDB\n",
            "installation should now be secure.\n",
            "\n",
            "Thanks for using MariaDB!\n"
          ]
        }
      ],
      "source": [
        "!mysql_secure_installation"
      ]
    },
    {
      "cell_type": "code",
      "execution_count": null,
      "metadata": {
        "colab": {
          "background_save": true,
          "base_uri": "https://localhost:8080/"
        },
        "id": "1XqvWDXSLTd0",
        "outputId": "8a1c4dcf-4246-4755-9d11-2dd5c13cc778"
      },
      "outputs": [
        {
          "name": "stdout",
          "output_type": "stream",
          "text": [
            "Enter password: \n",
            "\u001b[1mWelcome to the MariaDB monitor.  Commands end with ; or \\g.\n",
            "\u001b[m\u001b[1mYour MariaDB connection id is 5\n",
            "Server version: 10.6.16-MariaDB-0ubuntu0.22.04.1 Ubuntu 22.04\n",
            "\n",
            "\u001b[m\u001b[1mCopyright (c) 2000, 2018, Oracle, MariaDB Corporation Ab and others.\n",
            "\n",
            "\u001b[m\u001b[1mType 'help;' or '\\h' for help. Type '\\c' to clear the current input statement.\n",
            "\n",
            "\u001b[mMariaDB [(none)]> hi\n",
            "    -> CREATE DATABASE mydatabase;\n",
            "ERROR 1064 (42000): You have an error in your SQL syntax; check the manual that corresponds to your MariaDB server version for the right syntax to use near 'hi\n",
            "CREATE DATABASE mydatabase' at line 1\n",
            "\u0007\u001b[7m\u001b[mMariaDB [(none)]> CREATE DATABASE mydatabase;\n",
            "\u001b[1mQuery OK, 1 row affected (0.001 sec)\n",
            "\u001b[m\u001b[1m\n",
            "\u001b[mMariaDB [(none)]> USE mydatabase;\n",
            "\u001b[1mDatabase changed\n",
            "\u001b[mMariaDB [mydatabase]> CREATE TABLE mytable (     id INT AUTO_INCREMENT PRIMARY KEY,     name VARCHAR \b(255) );\n",
            "\u001b[1mQuery OK, 0 rows affected (0.018 sec)\n",
            "\u001b[m\u001b[1m\n",
            "\u001b[mMariaDB [mydatabase]> INSERT INTO mytable (name) VALUES ('John'), ('Jane'), ('Bob');\n",
            "\u001b[1mQuery OK, 3 rows affected (0.004 sec)\n",
            "\u001b[m\u001b[1mRecords: 3  Duplicates: 0  Warnings: 0\n",
            "\u001b[m\u001b[1m\n",
            "\u001b[mMariaDB [mydatabase]> SELECT * FROM mytable;\n",
            "+----+------+\n",
            "| id | name |\n",
            "+----+------+\n",
            "|  1 | John |\n",
            "|  2 | Jane |\n",
            "|  3 | Bob  |\n",
            "+----+------+\n",
            "\u001b[1m3 rows in set (0.000 sec)\n",
            "\u001b[m\u001b[1m\n",
            "\u001b[mMariaDB [mydatabase]> HELP;\n",
            "\u001b[1m\n",
            "General information about MariaDB can be found at\n",
            "http://mariadb.org\n",
            "\n",
            "\u001b[m\u001b[1mList of all client commands:\n",
            "\u001b[m\u001b[1mNote that all text commands must be first on line and end with ';'\n",
            "\u001b[m?         (\\?) Synonym for `help'.\n",
            "clear     (\\c) Clear the current input statement.\n",
            "connect   (\\r) Reconnect to the server. Optional arguments are db and host.\n",
            "delimiter (\\d) Set statement delimiter.\n",
            "edit      (\\e) Edit command with $EDITOR.\n",
            "ego       (\\G) Send command to MariaDB server, display result vertically.\n",
            "exit      (\\q) Exit mysql. Same as quit.\n",
            "go        (\\g) Send command to MariaDB server.\n",
            "help      (\\h) Display this help.\n",
            "nopager   (\\n) Disable pager, print to stdout.\n",
            "notee     (\\t) Don't write into outfile.\n",
            "pager     (\\P) Set PAGER [to_pager]. Print the query results via PAGER.\n",
            "print     (\\p) Print current command.\n",
            "prompt    (\\R) Change your mysql prompt.\n",
            "quit      (\\q) Quit mysql.\n",
            "rehash    (\\#) Rebuild completion hash.\n",
            "source    (\\.) Execute an SQL script file. Takes a file name as an argument.\n",
            "status    (\\s) Get status information from the server.\n",
            "system    (\\!) Execute a system shell command.\n",
            "tee       (\\T) Set outfile [to_outfile]. Append everything into given outfile.\n",
            "use       (\\u) Use another database. Takes database name as argument.\n",
            "charset   (\\C) Switch to another charset. Might be needed for processing binlog with multi-byte charsets.\n",
            "warnings  (\\W) Show warnings after every statement.\n",
            "nowarning (\\w) Don't show warnings after every statement.\n",
            "\u001b[1m\n",
            "For server side help, type 'help contents'\n",
            "\n",
            "\u001b[mMariaDB [mydatabase]> Install MariaDB on Google Colab\n",
            "    -> CREATE TABLE departments (     dept_id INT AUTO_INCREMENT PRIMARY KEY,     dept_name VARCHAR( \b100) NOT NULL );  CREATE TABLE employees (     emp_id INT AUTO_INCREMENT PRIMARY KEY,     emp_name V \bARCHAR(100) NOT NULL,     dept_id INT NOT NULL,     FOREIGN KEY (dept_id) REFERENCES departments(dep \bt_id) );\n",
            "ERROR 1064 (42000): You have an error in your SQL syntax; check the manual that corresponds to your MariaDB server version for the right syntax to use near 'MariaDB on Google Colab\n",
            "CREATE TABLE departments (     dept_id INT AUTO_INCRE...' at line 1\n",
            "ERROR 1005 (HY000): Can't create table `mydatabase`.`employees` (errno: 150 \"Foreign key constraint is incorrectly formed\")\n",
            "\u0007\u001b[7m\u001b[m\u0007\u001b[7m\u001b[mMariaDB [mydatabase]> CREATE TABLE departments (     dept_id INT AUTO_INCREMENT PRIMARY KEY,     dep \bt_name VARCHAR(100) NOT NULL );  CREATE TABLE employees (     emp_id INT AUTO_INCREMENT PRIMARY KEY, \b     emp_name VARCHAR(100) NOT NULL,     dept_id INT NOT NULL,     FOREIGN KEY (dept_id) REFERENCES  \bdepartments(dept_id) );\n",
            "\u001b[1mQuery OK, 0 rows affected (0.016 sec)\n",
            "\u001b[m\u001b[1m\n",
            "\u001b[m\u001b[1mQuery OK, 0 rows affected (0.017 sec)\n",
            "\u001b[m\u001b[1m\n",
            "\u001b[mMariaDB [mydatabase]> INSERT INTO departments (dept_name) VALUES     ('Sales'), ('Marketing'), ('Eng \bineering');  INSERT INTO employees (emp_name, dept_id) VALUES     ('John', 1), ('Jane', 2), ('Bob',  \b3), ('Alice', 1);  SELECT e.emp_name, d.dept_name FROM employees e JOIN departments d ON e.dept_id = \b d.dept_id;\n",
            "\u001b[1mQuery OK, 3 rows affected (0.003 sec)\n",
            "\u001b[m\u001b[1mRecords: 3  Duplicates: 0  Warnings: 0\n",
            "\u001b[m\u001b[1m\n",
            "\u001b[m\u001b[1mQuery OK, 4 rows affected (0.004 sec)\n",
            "\u001b[m\u001b[1mRecords: 4  Duplicates: 0  Warnings: 0\n",
            "\u001b[m\u001b[1m\n",
            "\u001b[m+----------+-------------+\n",
            "| emp_name | dept_name   |\n",
            "+----------+-------------+\n",
            "| John     | Sales       |\n",
            "| Jane     | Marketing   |\n",
            "| Bob      | Engineering |\n",
            "| Alice    | Sales       |\n",
            "+----------+-------------+\n",
            "\u001b[1m4 rows in set (0.001 sec)\n",
            "\u001b[m\u001b[1m\n",
            "\u001b[mMariaDB [mydatabase]> "
          ]
        }
      ],
      "source": [
        "!mysql -u root -p"
      ]
    },
    {
      "cell_type": "code",
      "execution_count": null,
      "metadata": {
        "id": "e7GuY8oVL1Q9"
      },
      "outputs": [],
      "source": [
        "!mysql -u root -p"
      ]
    }
  ],
  "metadata": {
    "colab": {
      "provenance": [],
      "authorship_tag": "ABX9TyOu14wGSXx4mmVPgjIEE8zX",
      "include_colab_link": true
    },
    "kernelspec": {
      "display_name": "Python 3",
      "name": "python3"
    },
    "language_info": {
      "name": "python"
    }
  },
  "nbformat": 4,
  "nbformat_minor": 0
}