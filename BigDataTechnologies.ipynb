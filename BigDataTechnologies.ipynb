{
  "nbformat": 4,
  "nbformat_minor": 0,
  "metadata": {
    "colab": {
      "provenance": [],
      "authorship_tag": "ABX9TyPdiFlhrRwNN1XnT6be9MSU",
      "include_colab_link": true
    },
    "kernelspec": {
      "name": "python3",
      "display_name": "Python 3"
    },
    "language_info": {
      "name": "python"
    }
  },
  "cells": [
    {
      "cell_type": "markdown",
      "metadata": {
        "id": "view-in-github",
        "colab_type": "text"
      },
      "source": [
        "<a href=\"https://colab.research.google.com/github/MrSimple07/Big_Data_Technologies/blob/main/BigDataTechnologies.ipynb\" target=\"_parent\"><img src=\"https://colab.research.google.com/assets/colab-badge.svg\" alt=\"Open In Colab\"/></a>"
      ]
    },
    {
      "cell_type": "markdown",
      "source": [
        "# Data Processing Frameworks:\n",
        "\n",
        "- Hadoop\n",
        "- Spark"
      ],
      "metadata": {
        "id": "isd9WVSAW5f5"
      }
    },
    {
      "cell_type": "code",
      "execution_count": null,
      "metadata": {
        "id": "q7iHEtxiWb9q"
      },
      "outputs": [],
      "source": []
    },
    {
      "cell_type": "markdown",
      "source": [
        "# Kubernetes"
      ],
      "metadata": {
        "id": "ahJMFT5FXA8C"
      }
    },
    {
      "cell_type": "code",
      "source": [],
      "metadata": {
        "id": "N7A6PzkGXB9E"
      },
      "execution_count": null,
      "outputs": []
    },
    {
      "cell_type": "markdown",
      "source": [
        "# Click House"
      ],
      "metadata": {
        "id": "uA-zIqenXHnQ"
      }
    },
    {
      "cell_type": "code",
      "source": [],
      "metadata": {
        "id": "yAznGOFwXOXe"
      },
      "execution_count": null,
      "outputs": []
    }
  ]
}