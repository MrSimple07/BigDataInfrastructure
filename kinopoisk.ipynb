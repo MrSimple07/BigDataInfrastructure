{
  "nbformat": 4,
  "nbformat_minor": 0,
  "metadata": {
    "colab": {
      "provenance": [],
      "include_colab_link": true
    },
    "kernelspec": {
      "name": "python3",
      "display_name": "Python 3"
    },
    "language_info": {
      "name": "python"
    }
  },
  "cells": [
    {
      "cell_type": "markdown",
      "metadata": {
        "id": "view-in-github",
        "colab_type": "text"
      },
      "source": [
        "<a href=\"https://colab.research.google.com/github/MrSimple07/Big_Data_Technologies/blob/main/kinopoisk.ipynb\" target=\"_parent\"><img src=\"https://colab.research.google.com/assets/colab-badge.svg\" alt=\"Open In Colab\"/></a>"
      ]
    },
    {
      "cell_type": "code",
      "execution_count": null,
      "metadata": {
        "colab": {
          "base_uri": "https://localhost:8080/",
          "height": 306
        },
        "id": "d6xAG8BHsLuw",
        "outputId": "cc314832-a5f0-4b7d-c2bb-b9a55ebdf894",
        "cellView": "form",
        "collapsed": true
      },
      "outputs": [
        {
          "output_type": "error",
          "ename": "KeyError",
          "evalue": "'docs'",
          "traceback": [
            "\u001b[0;31m---------------------------------------------------------------------------\u001b[0m",
            "\u001b[0;31mKeyError\u001b[0m                                  Traceback (most recent call last)",
            "\u001b[0;32m<ipython-input-36-4c0b5cf9409c>\u001b[0m in \u001b[0;36m<cell line: 37>\u001b[0;34m()\u001b[0m\n\u001b[1;32m     35\u001b[0m     \u001b[0;32mwith\u001b[0m \u001b[0mopen\u001b[0m\u001b[0;34m(\u001b[0m\u001b[0;34m'movies.json'\u001b[0m\u001b[0;34m,\u001b[0m \u001b[0;34m'w'\u001b[0m\u001b[0;34m)\u001b[0m \u001b[0;32mas\u001b[0m \u001b[0mf\u001b[0m\u001b[0;34m:\u001b[0m\u001b[0;34m\u001b[0m\u001b[0;34m\u001b[0m\u001b[0m\n\u001b[1;32m     36\u001b[0m         \u001b[0mjson\u001b[0m\u001b[0;34m.\u001b[0m\u001b[0mdump\u001b[0m\u001b[0;34m(\u001b[0m\u001b[0mall_movies\u001b[0m\u001b[0;34m,\u001b[0m \u001b[0mf\u001b[0m\u001b[0;34m,\u001b[0m \u001b[0mensure_ascii\u001b[0m\u001b[0;34m=\u001b[0m\u001b[0;32mFalse\u001b[0m\u001b[0;34m,\u001b[0m \u001b[0mindent\u001b[0m\u001b[0;34m=\u001b[0m\u001b[0;36m4\u001b[0m\u001b[0;34m)\u001b[0m\u001b[0;34m\u001b[0m\u001b[0;34m\u001b[0m\u001b[0m\n\u001b[0;32m---> 37\u001b[0;31m \u001b[0msave_all_movies\u001b[0m\u001b[0;34m(\u001b[0m\u001b[0;34m)\u001b[0m\u001b[0;34m\u001b[0m\u001b[0;34m\u001b[0m\u001b[0m\n\u001b[0m",
            "\u001b[0;32m<ipython-input-36-4c0b5cf9409c>\u001b[0m in \u001b[0;36msave_all_movies\u001b[0;34m()\u001b[0m\n\u001b[1;32m     31\u001b[0m         )\n\u001b[1;32m     32\u001b[0m         \u001b[0mmovies\u001b[0m \u001b[0;34m=\u001b[0m \u001b[0mresponse\u001b[0m\u001b[0;34m.\u001b[0m\u001b[0mjson\u001b[0m\u001b[0;34m(\u001b[0m\u001b[0;34m)\u001b[0m\u001b[0;34m\u001b[0m\u001b[0;34m\u001b[0m\u001b[0m\n\u001b[0;32m---> 33\u001b[0;31m         \u001b[0mall_movies\u001b[0m\u001b[0;34m.\u001b[0m\u001b[0mextend\u001b[0m\u001b[0;34m(\u001b[0m\u001b[0mmovies\u001b[0m\u001b[0;34m[\u001b[0m\u001b[0;34m\"docs\"\u001b[0m\u001b[0;34m]\u001b[0m\u001b[0;34m)\u001b[0m\u001b[0;34m\u001b[0m\u001b[0;34m\u001b[0m\u001b[0m\n\u001b[0m\u001b[1;32m     34\u001b[0m \u001b[0;34m\u001b[0m\u001b[0m\n\u001b[1;32m     35\u001b[0m     \u001b[0;32mwith\u001b[0m \u001b[0mopen\u001b[0m\u001b[0;34m(\u001b[0m\u001b[0;34m'movies.json'\u001b[0m\u001b[0;34m,\u001b[0m \u001b[0;34m'w'\u001b[0m\u001b[0;34m)\u001b[0m \u001b[0;32mas\u001b[0m \u001b[0mf\u001b[0m\u001b[0;34m:\u001b[0m\u001b[0;34m\u001b[0m\u001b[0;34m\u001b[0m\u001b[0m\n",
            "\u001b[0;31mKeyError\u001b[0m: 'docs'"
          ]
        }
      ],
      "source": [
        "# @title\n",
        "import requests\n",
        "import json\n",
        "\n",
        "headers = {\"X-API-KEY\": \"8HHYKCA-9HSM14K-HVDN8A1-Q2EKFRE\"}\n",
        "\n",
        "def save_all_movies():\n",
        "\n",
        "    all_movies = []\n",
        "\n",
        "    response = requests.get(\n",
        "        'https://api.kinopoisk.dev/v1.4/movie',\n",
        "        params={\n",
        "            \"limit\": 50,\n",
        "            \"page\": 1,\n",
        "        },\n",
        "        headers=headers\n",
        "    )\n",
        "    movies = response.json()\n",
        "    total_pages = movies[\"total\"] // movies[\"limit\"] + (1 if movies[\"total\"] % movies[\"limit\"] > 0 else 0)\n",
        "\n",
        "    for page in range(1, total_pages + 1):\n",
        "        response = requests.get(\n",
        "            'https://api.kinopoisk.dev/v1.4/movie',\n",
        "            params={\n",
        "                \"genres.name\": genres,\n",
        "                \"limit\": 50,\n",
        "                \"page\": page,\n",
        "                \"year\": year_range\n",
        "            },\n",
        "            headers=headers\n",
        "        )\n",
        "        movies = response.json()\n",
        "        all_movies.extend(movies[\"docs\"])\n",
        "\n",
        "    with open('movies.json', 'w') as f:\n",
        "        json.dump(all_movies, f, ensure_ascii=False, indent=4)\n",
        "save_all_movies()\n"
      ]
    },
    {
      "cell_type": "markdown",
      "source": [
        "# 1. Data Loading and overall information"
      ],
      "metadata": {
        "id": "mChTuThltZ0Z"
      }
    },
    {
      "cell_type": "code",
      "source": [
        "import pandas as pd\n",
        "\n",
        "movies_df = pd.read_json('/content/movies.json')"
      ],
      "metadata": {
        "id": "_tDm1qt5yyBV"
      },
      "execution_count": 20,
      "outputs": []
    },
    {
      "cell_type": "code",
      "source": [
        "# @title\n",
        "movies_df.head()"
      ],
      "metadata": {
        "colab": {
          "base_uri": "https://localhost:8080/",
          "height": 585
        },
        "id": "68lQU5QU5am3",
        "outputId": "cb18ad5c-5674-4196-d31e-d04f98742031"
      },
      "execution_count": 3,
      "outputs": [
        {
          "output_type": "execute_result",
          "data": {
            "text/plain": [
              "        id                                     name  \\\n",
              "0  1318972                        Гнев человеческий   \n",
              "1   927898                               Переводчик   \n",
              "2   409424                                     Дюна   \n",
              "3  1405508  Операция «Фортуна»: Искусство побеждать   \n",
              "4  1199100                            Главный герой   \n",
              "\n",
              "                     alternativeName enName  \\\n",
              "0                       Wrath of Man   None   \n",
              "1                       The Covenant   None   \n",
              "2                     Dune: Part One   None   \n",
              "3  Operation Fortune: Ruse de Guerre   None   \n",
              "4                           Free Guy   None   \n",
              "\n",
              "                                               names   type  typeNumber  year  \\\n",
              "0  [{'name': 'Гнев человеческий', 'language': 'RU...  movie           1  2021   \n",
              "1  [{'name': 'Переводчик', 'language': 'RU', 'typ...  movie           1  2022   \n",
              "2  [{'name': 'Дюна'}, {'name': 'Dune: Part One'},...  movie           1  2021   \n",
              "3  [{'name': 'Операция «Фортуна»: Искусство побеж...  movie           1  2022   \n",
              "4  [{'name': 'Главный герой'}, {'name': 'Free Guy...  movie           1  2021   \n",
              "\n",
              "                                         description  \\\n",
              "0  Грузовики лос-анджелесской инкассаторской комп...   \n",
              "1  Афганистан, март 2018 года. Во время спецопера...   \n",
              "2  Наследник знаменитого дома Атрейдесов Пол отпр...   \n",
              "3  Суперагент британской разведки Орсон Форчун на...   \n",
              "4  Парень по имени Парень счастлив. Он живет в лу...   \n",
              "\n",
              "                                    shortDescription  ...  \\\n",
              "0  Хмурый мужчина прикидывается инкассатором, что...  ...   \n",
              "1  Ахмед спас Джона от смерти, и теперь тот долже...  ...   \n",
              "2  Атрейдесы прибывают на планету, где им никто н...  ...   \n",
              "3  Команда шпионов пытается сорвать продажу супер...  ...   \n",
              "4  Банковский клерк обнаруживает, что он персонаж...  ...   \n",
              "\n",
              "                                              poster  \\\n",
              "0  {'url': 'https://image.openmoviedb.com/kinopoi...   \n",
              "1  {'url': 'https://image.openmoviedb.com/kinopoi...   \n",
              "2  {'url': 'https://image.openmoviedb.com/kinopoi...   \n",
              "3  {'url': 'https://image.openmoviedb.com/kinopoi...   \n",
              "4  {'url': 'https://image.openmoviedb.com/kinopoi...   \n",
              "\n",
              "                                            backdrop  \\\n",
              "0  {'url': 'https://image.openmoviedb.com/kinopoi...   \n",
              "1  {'url': 'https://image.openmoviedb.com/kinopoi...   \n",
              "2  {'url': 'https://image.openmoviedb.com/kinopoi...   \n",
              "3  {'url': 'https://image.openmoviedb.com/kinopoi...   \n",
              "4  {'url': 'https://image.openmoviedb.com/kinopoi...   \n",
              "\n",
              "                                              genres  \\\n",
              "0          [{'name': 'боевик'}, {'name': 'триллер'}]   \n",
              "1  [{'name': 'боевик'}, {'name': 'триллер'}, {'na...   \n",
              "2  [{'name': 'фантастика'}, {'name': 'боевик'}, {...   \n",
              "3          [{'name': 'боевик'}, {'name': 'комедия'}]   \n",
              "4  [{'name': 'фантастика'}, {'name': 'боевик'}, {...   \n",
              "\n",
              "                                           countries  top10  top250 isSeries  \\\n",
              "0      [{'name': 'Великобритания'}, {'name': 'США'}]    NaN     NaN    False   \n",
              "1  [{'name': 'Великобритания'}, {'name': 'Испания...    NaN   198.0    False   \n",
              "2  [{'name': 'США'}, {'name': 'Канада'}, {'name':...    NaN     NaN    False   \n",
              "3      [{'name': 'Великобритания'}, {'name': 'США'}]    NaN     NaN    False   \n",
              "4              [{'name': 'США'}, {'name': 'Канада'}]    NaN     NaN    False   \n",
              "\n",
              "   ticketsOnSale                                               logo  \\\n",
              "0          False                                                NaN   \n",
              "1          False                                                NaN   \n",
              "2          False  {'url': 'https://avatars.mds.yandex.net/get-ot...   \n",
              "3          False                                                NaN   \n",
              "4          False  {'url': 'https://avatars.mds.yandex.net/get-ot...   \n",
              "\n",
              "  releaseYears  \n",
              "0          NaN  \n",
              "1          NaN  \n",
              "2          NaN  \n",
              "3          NaN  \n",
              "4          NaN  \n",
              "\n",
              "[5 rows x 28 columns]"
            ],
            "text/html": [
              "\n",
              "  <div id=\"df-6d12ad98-06d8-49f4-b770-e38abaf5887a\" class=\"colab-df-container\">\n",
              "    <div>\n",
              "<style scoped>\n",
              "    .dataframe tbody tr th:only-of-type {\n",
              "        vertical-align: middle;\n",
              "    }\n",
              "\n",
              "    .dataframe tbody tr th {\n",
              "        vertical-align: top;\n",
              "    }\n",
              "\n",
              "    .dataframe thead th {\n",
              "        text-align: right;\n",
              "    }\n",
              "</style>\n",
              "<table border=\"1\" class=\"dataframe\">\n",
              "  <thead>\n",
              "    <tr style=\"text-align: right;\">\n",
              "      <th></th>\n",
              "      <th>id</th>\n",
              "      <th>name</th>\n",
              "      <th>alternativeName</th>\n",
              "      <th>enName</th>\n",
              "      <th>names</th>\n",
              "      <th>type</th>\n",
              "      <th>typeNumber</th>\n",
              "      <th>year</th>\n",
              "      <th>description</th>\n",
              "      <th>shortDescription</th>\n",
              "      <th>...</th>\n",
              "      <th>poster</th>\n",
              "      <th>backdrop</th>\n",
              "      <th>genres</th>\n",
              "      <th>countries</th>\n",
              "      <th>top10</th>\n",
              "      <th>top250</th>\n",
              "      <th>isSeries</th>\n",
              "      <th>ticketsOnSale</th>\n",
              "      <th>logo</th>\n",
              "      <th>releaseYears</th>\n",
              "    </tr>\n",
              "  </thead>\n",
              "  <tbody>\n",
              "    <tr>\n",
              "      <th>0</th>\n",
              "      <td>1318972</td>\n",
              "      <td>Гнев человеческий</td>\n",
              "      <td>Wrath of Man</td>\n",
              "      <td>None</td>\n",
              "      <td>[{'name': 'Гнев человеческий', 'language': 'RU...</td>\n",
              "      <td>movie</td>\n",
              "      <td>1</td>\n",
              "      <td>2021</td>\n",
              "      <td>Грузовики лос-анджелесской инкассаторской комп...</td>\n",
              "      <td>Хмурый мужчина прикидывается инкассатором, что...</td>\n",
              "      <td>...</td>\n",
              "      <td>{'url': 'https://image.openmoviedb.com/kinopoi...</td>\n",
              "      <td>{'url': 'https://image.openmoviedb.com/kinopoi...</td>\n",
              "      <td>[{'name': 'боевик'}, {'name': 'триллер'}]</td>\n",
              "      <td>[{'name': 'Великобритания'}, {'name': 'США'}]</td>\n",
              "      <td>NaN</td>\n",
              "      <td>NaN</td>\n",
              "      <td>False</td>\n",
              "      <td>False</td>\n",
              "      <td>NaN</td>\n",
              "      <td>NaN</td>\n",
              "    </tr>\n",
              "    <tr>\n",
              "      <th>1</th>\n",
              "      <td>927898</td>\n",
              "      <td>Переводчик</td>\n",
              "      <td>The Covenant</td>\n",
              "      <td>None</td>\n",
              "      <td>[{'name': 'Переводчик', 'language': 'RU', 'typ...</td>\n",
              "      <td>movie</td>\n",
              "      <td>1</td>\n",
              "      <td>2022</td>\n",
              "      <td>Афганистан, март 2018 года. Во время спецопера...</td>\n",
              "      <td>Ахмед спас Джона от смерти, и теперь тот долже...</td>\n",
              "      <td>...</td>\n",
              "      <td>{'url': 'https://image.openmoviedb.com/kinopoi...</td>\n",
              "      <td>{'url': 'https://image.openmoviedb.com/kinopoi...</td>\n",
              "      <td>[{'name': 'боевик'}, {'name': 'триллер'}, {'na...</td>\n",
              "      <td>[{'name': 'Великобритания'}, {'name': 'Испания...</td>\n",
              "      <td>NaN</td>\n",
              "      <td>198.0</td>\n",
              "      <td>False</td>\n",
              "      <td>False</td>\n",
              "      <td>NaN</td>\n",
              "      <td>NaN</td>\n",
              "    </tr>\n",
              "    <tr>\n",
              "      <th>2</th>\n",
              "      <td>409424</td>\n",
              "      <td>Дюна</td>\n",
              "      <td>Dune: Part One</td>\n",
              "      <td>None</td>\n",
              "      <td>[{'name': 'Дюна'}, {'name': 'Dune: Part One'},...</td>\n",
              "      <td>movie</td>\n",
              "      <td>1</td>\n",
              "      <td>2021</td>\n",
              "      <td>Наследник знаменитого дома Атрейдесов Пол отпр...</td>\n",
              "      <td>Атрейдесы прибывают на планету, где им никто н...</td>\n",
              "      <td>...</td>\n",
              "      <td>{'url': 'https://image.openmoviedb.com/kinopoi...</td>\n",
              "      <td>{'url': 'https://image.openmoviedb.com/kinopoi...</td>\n",
              "      <td>[{'name': 'фантастика'}, {'name': 'боевик'}, {...</td>\n",
              "      <td>[{'name': 'США'}, {'name': 'Канада'}, {'name':...</td>\n",
              "      <td>NaN</td>\n",
              "      <td>NaN</td>\n",
              "      <td>False</td>\n",
              "      <td>False</td>\n",
              "      <td>{'url': 'https://avatars.mds.yandex.net/get-ot...</td>\n",
              "      <td>NaN</td>\n",
              "    </tr>\n",
              "    <tr>\n",
              "      <th>3</th>\n",
              "      <td>1405508</td>\n",
              "      <td>Операция «Фортуна»: Искусство побеждать</td>\n",
              "      <td>Operation Fortune: Ruse de Guerre</td>\n",
              "      <td>None</td>\n",
              "      <td>[{'name': 'Операция «Фортуна»: Искусство побеж...</td>\n",
              "      <td>movie</td>\n",
              "      <td>1</td>\n",
              "      <td>2022</td>\n",
              "      <td>Суперагент британской разведки Орсон Форчун на...</td>\n",
              "      <td>Команда шпионов пытается сорвать продажу супер...</td>\n",
              "      <td>...</td>\n",
              "      <td>{'url': 'https://image.openmoviedb.com/kinopoi...</td>\n",
              "      <td>{'url': 'https://image.openmoviedb.com/kinopoi...</td>\n",
              "      <td>[{'name': 'боевик'}, {'name': 'комедия'}]</td>\n",
              "      <td>[{'name': 'Великобритания'}, {'name': 'США'}]</td>\n",
              "      <td>NaN</td>\n",
              "      <td>NaN</td>\n",
              "      <td>False</td>\n",
              "      <td>False</td>\n",
              "      <td>NaN</td>\n",
              "      <td>NaN</td>\n",
              "    </tr>\n",
              "    <tr>\n",
              "      <th>4</th>\n",
              "      <td>1199100</td>\n",
              "      <td>Главный герой</td>\n",
              "      <td>Free Guy</td>\n",
              "      <td>None</td>\n",
              "      <td>[{'name': 'Главный герой'}, {'name': 'Free Guy...</td>\n",
              "      <td>movie</td>\n",
              "      <td>1</td>\n",
              "      <td>2021</td>\n",
              "      <td>Парень по имени Парень счастлив. Он живет в лу...</td>\n",
              "      <td>Банковский клерк обнаруживает, что он персонаж...</td>\n",
              "      <td>...</td>\n",
              "      <td>{'url': 'https://image.openmoviedb.com/kinopoi...</td>\n",
              "      <td>{'url': 'https://image.openmoviedb.com/kinopoi...</td>\n",
              "      <td>[{'name': 'фантастика'}, {'name': 'боевик'}, {...</td>\n",
              "      <td>[{'name': 'США'}, {'name': 'Канада'}]</td>\n",
              "      <td>NaN</td>\n",
              "      <td>NaN</td>\n",
              "      <td>False</td>\n",
              "      <td>False</td>\n",
              "      <td>{'url': 'https://avatars.mds.yandex.net/get-ot...</td>\n",
              "      <td>NaN</td>\n",
              "    </tr>\n",
              "  </tbody>\n",
              "</table>\n",
              "<p>5 rows × 28 columns</p>\n",
              "</div>\n",
              "    <div class=\"colab-df-buttons\">\n",
              "\n",
              "  <div class=\"colab-df-container\">\n",
              "    <button class=\"colab-df-convert\" onclick=\"convertToInteractive('df-6d12ad98-06d8-49f4-b770-e38abaf5887a')\"\n",
              "            title=\"Convert this dataframe to an interactive table.\"\n",
              "            style=\"display:none;\">\n",
              "\n",
              "  <svg xmlns=\"http://www.w3.org/2000/svg\" height=\"24px\" viewBox=\"0 -960 960 960\">\n",
              "    <path d=\"M120-120v-720h720v720H120Zm60-500h600v-160H180v160Zm220 220h160v-160H400v160Zm0 220h160v-160H400v160ZM180-400h160v-160H180v160Zm440 0h160v-160H620v160ZM180-180h160v-160H180v160Zm440 0h160v-160H620v160Z\"/>\n",
              "  </svg>\n",
              "    </button>\n",
              "\n",
              "  <style>\n",
              "    .colab-df-container {\n",
              "      display:flex;\n",
              "      gap: 12px;\n",
              "    }\n",
              "\n",
              "    .colab-df-convert {\n",
              "      background-color: #E8F0FE;\n",
              "      border: none;\n",
              "      border-radius: 50%;\n",
              "      cursor: pointer;\n",
              "      display: none;\n",
              "      fill: #1967D2;\n",
              "      height: 32px;\n",
              "      padding: 0 0 0 0;\n",
              "      width: 32px;\n",
              "    }\n",
              "\n",
              "    .colab-df-convert:hover {\n",
              "      background-color: #E2EBFA;\n",
              "      box-shadow: 0px 1px 2px rgba(60, 64, 67, 0.3), 0px 1px 3px 1px rgba(60, 64, 67, 0.15);\n",
              "      fill: #174EA6;\n",
              "    }\n",
              "\n",
              "    .colab-df-buttons div {\n",
              "      margin-bottom: 4px;\n",
              "    }\n",
              "\n",
              "    [theme=dark] .colab-df-convert {\n",
              "      background-color: #3B4455;\n",
              "      fill: #D2E3FC;\n",
              "    }\n",
              "\n",
              "    [theme=dark] .colab-df-convert:hover {\n",
              "      background-color: #434B5C;\n",
              "      box-shadow: 0px 1px 3px 1px rgba(0, 0, 0, 0.15);\n",
              "      filter: drop-shadow(0px 1px 2px rgba(0, 0, 0, 0.3));\n",
              "      fill: #FFFFFF;\n",
              "    }\n",
              "  </style>\n",
              "\n",
              "    <script>\n",
              "      const buttonEl =\n",
              "        document.querySelector('#df-6d12ad98-06d8-49f4-b770-e38abaf5887a button.colab-df-convert');\n",
              "      buttonEl.style.display =\n",
              "        google.colab.kernel.accessAllowed ? 'block' : 'none';\n",
              "\n",
              "      async function convertToInteractive(key) {\n",
              "        const element = document.querySelector('#df-6d12ad98-06d8-49f4-b770-e38abaf5887a');\n",
              "        const dataTable =\n",
              "          await google.colab.kernel.invokeFunction('convertToInteractive',\n",
              "                                                    [key], {});\n",
              "        if (!dataTable) return;\n",
              "\n",
              "        const docLinkHtml = 'Like what you see? Visit the ' +\n",
              "          '<a target=\"_blank\" href=https://colab.research.google.com/notebooks/data_table.ipynb>data table notebook</a>'\n",
              "          + ' to learn more about interactive tables.';\n",
              "        element.innerHTML = '';\n",
              "        dataTable['output_type'] = 'display_data';\n",
              "        await google.colab.output.renderOutput(dataTable, element);\n",
              "        const docLink = document.createElement('div');\n",
              "        docLink.innerHTML = docLinkHtml;\n",
              "        element.appendChild(docLink);\n",
              "      }\n",
              "    </script>\n",
              "  </div>\n",
              "\n",
              "\n",
              "<div id=\"df-f734df06-9426-442d-811b-19a751ab3bdb\">\n",
              "  <button class=\"colab-df-quickchart\" onclick=\"quickchart('df-f734df06-9426-442d-811b-19a751ab3bdb')\"\n",
              "            title=\"Suggest charts\"\n",
              "            style=\"display:none;\">\n",
              "\n",
              "<svg xmlns=\"http://www.w3.org/2000/svg\" height=\"24px\"viewBox=\"0 0 24 24\"\n",
              "     width=\"24px\">\n",
              "    <g>\n",
              "        <path d=\"M19 3H5c-1.1 0-2 .9-2 2v14c0 1.1.9 2 2 2h14c1.1 0 2-.9 2-2V5c0-1.1-.9-2-2-2zM9 17H7v-7h2v7zm4 0h-2V7h2v10zm4 0h-2v-4h2v4z\"/>\n",
              "    </g>\n",
              "</svg>\n",
              "  </button>\n",
              "\n",
              "<style>\n",
              "  .colab-df-quickchart {\n",
              "      --bg-color: #E8F0FE;\n",
              "      --fill-color: #1967D2;\n",
              "      --hover-bg-color: #E2EBFA;\n",
              "      --hover-fill-color: #174EA6;\n",
              "      --disabled-fill-color: #AAA;\n",
              "      --disabled-bg-color: #DDD;\n",
              "  }\n",
              "\n",
              "  [theme=dark] .colab-df-quickchart {\n",
              "      --bg-color: #3B4455;\n",
              "      --fill-color: #D2E3FC;\n",
              "      --hover-bg-color: #434B5C;\n",
              "      --hover-fill-color: #FFFFFF;\n",
              "      --disabled-bg-color: #3B4455;\n",
              "      --disabled-fill-color: #666;\n",
              "  }\n",
              "\n",
              "  .colab-df-quickchart {\n",
              "    background-color: var(--bg-color);\n",
              "    border: none;\n",
              "    border-radius: 50%;\n",
              "    cursor: pointer;\n",
              "    display: none;\n",
              "    fill: var(--fill-color);\n",
              "    height: 32px;\n",
              "    padding: 0;\n",
              "    width: 32px;\n",
              "  }\n",
              "\n",
              "  .colab-df-quickchart:hover {\n",
              "    background-color: var(--hover-bg-color);\n",
              "    box-shadow: 0 1px 2px rgba(60, 64, 67, 0.3), 0 1px 3px 1px rgba(60, 64, 67, 0.15);\n",
              "    fill: var(--button-hover-fill-color);\n",
              "  }\n",
              "\n",
              "  .colab-df-quickchart-complete:disabled,\n",
              "  .colab-df-quickchart-complete:disabled:hover {\n",
              "    background-color: var(--disabled-bg-color);\n",
              "    fill: var(--disabled-fill-color);\n",
              "    box-shadow: none;\n",
              "  }\n",
              "\n",
              "  .colab-df-spinner {\n",
              "    border: 2px solid var(--fill-color);\n",
              "    border-color: transparent;\n",
              "    border-bottom-color: var(--fill-color);\n",
              "    animation:\n",
              "      spin 1s steps(1) infinite;\n",
              "  }\n",
              "\n",
              "  @keyframes spin {\n",
              "    0% {\n",
              "      border-color: transparent;\n",
              "      border-bottom-color: var(--fill-color);\n",
              "      border-left-color: var(--fill-color);\n",
              "    }\n",
              "    20% {\n",
              "      border-color: transparent;\n",
              "      border-left-color: var(--fill-color);\n",
              "      border-top-color: var(--fill-color);\n",
              "    }\n",
              "    30% {\n",
              "      border-color: transparent;\n",
              "      border-left-color: var(--fill-color);\n",
              "      border-top-color: var(--fill-color);\n",
              "      border-right-color: var(--fill-color);\n",
              "    }\n",
              "    40% {\n",
              "      border-color: transparent;\n",
              "      border-right-color: var(--fill-color);\n",
              "      border-top-color: var(--fill-color);\n",
              "    }\n",
              "    60% {\n",
              "      border-color: transparent;\n",
              "      border-right-color: var(--fill-color);\n",
              "    }\n",
              "    80% {\n",
              "      border-color: transparent;\n",
              "      border-right-color: var(--fill-color);\n",
              "      border-bottom-color: var(--fill-color);\n",
              "    }\n",
              "    90% {\n",
              "      border-color: transparent;\n",
              "      border-bottom-color: var(--fill-color);\n",
              "    }\n",
              "  }\n",
              "</style>\n",
              "\n",
              "  <script>\n",
              "    async function quickchart(key) {\n",
              "      const quickchartButtonEl =\n",
              "        document.querySelector('#' + key + ' button');\n",
              "      quickchartButtonEl.disabled = true;  // To prevent multiple clicks.\n",
              "      quickchartButtonEl.classList.add('colab-df-spinner');\n",
              "      try {\n",
              "        const charts = await google.colab.kernel.invokeFunction(\n",
              "            'suggestCharts', [key], {});\n",
              "      } catch (error) {\n",
              "        console.error('Error during call to suggestCharts:', error);\n",
              "      }\n",
              "      quickchartButtonEl.classList.remove('colab-df-spinner');\n",
              "      quickchartButtonEl.classList.add('colab-df-quickchart-complete');\n",
              "    }\n",
              "    (() => {\n",
              "      let quickchartButtonEl =\n",
              "        document.querySelector('#df-f734df06-9426-442d-811b-19a751ab3bdb button');\n",
              "      quickchartButtonEl.style.display =\n",
              "        google.colab.kernel.accessAllowed ? 'block' : 'none';\n",
              "    })();\n",
              "  </script>\n",
              "</div>\n",
              "    </div>\n",
              "  </div>\n"
            ],
            "application/vnd.google.colaboratory.intrinsic+json": {
              "type": "dataframe",
              "variable_name": "movies_df"
            }
          },
          "metadata": {},
          "execution_count": 3
        }
      ]
    },
    {
      "cell_type": "code",
      "source": [
        "movies_df.info()"
      ],
      "metadata": {
        "colab": {
          "base_uri": "https://localhost:8080/"
        },
        "id": "mzpCzA8dqQ6y",
        "outputId": "98d6f0a4-c0d3-44b0-e3cc-bd2c4f32d0ad"
      },
      "execution_count": 6,
      "outputs": [
        {
          "output_type": "stream",
          "name": "stdout",
          "text": [
            "<class 'pandas.core.frame.DataFrame'>\n",
            "RangeIndex: 7806 entries, 0 to 7805\n",
            "Data columns (total 28 columns):\n",
            " #   Column             Non-Null Count  Dtype  \n",
            "---  ------             --------------  -----  \n",
            " 0   id                 7806 non-null   int64  \n",
            " 1   name               2724 non-null   object \n",
            " 2   alternativeName    7677 non-null   object \n",
            " 3   enName             171 non-null    object \n",
            " 4   names              7802 non-null   object \n",
            " 5   type               7806 non-null   object \n",
            " 6   typeNumber         7806 non-null   int64  \n",
            " 7   year               7806 non-null   int64  \n",
            " 8   description        1935 non-null   object \n",
            " 9   shortDescription   440 non-null    object \n",
            " 10  status             1332 non-null   object \n",
            " 11  rating             7806 non-null   object \n",
            " 12  votes              7806 non-null   object \n",
            " 13  movieLength        4056 non-null   float64\n",
            " 14  totalSeriesLength  175 non-null    float64\n",
            " 15  seriesLength       892 non-null    float64\n",
            " 16  ratingMpaa         414 non-null    object \n",
            " 17  ageRating          777 non-null    float64\n",
            " 18  poster             7801 non-null   object \n",
            " 19  backdrop           7798 non-null   object \n",
            " 20  genres             7806 non-null   object \n",
            " 21  countries          7804 non-null   object \n",
            " 22  top10              1 non-null      float64\n",
            " 23  top250             16 non-null     float64\n",
            " 24  isSeries           7806 non-null   bool   \n",
            " 25  ticketsOnSale      7806 non-null   bool   \n",
            " 26  logo               5918 non-null   object \n",
            " 27  releaseYears       2898 non-null   object \n",
            "dtypes: bool(2), float64(6), int64(3), object(17)\n",
            "memory usage: 1.6+ MB\n"
          ]
        }
      ]
    },
    {
      "cell_type": "code",
      "source": [
        "movies_df.describe()"
      ],
      "metadata": {
        "id": "779-ZHtXqcB6",
        "colab": {
          "base_uri": "https://localhost:8080/",
          "height": 320
        },
        "outputId": "7e8f7dbc-a722-4a31-e96a-6712661c8527"
      },
      "execution_count": 8,
      "outputs": [
        {
          "output_type": "execute_result",
          "data": {
            "text/plain": [
              "                 id   typeNumber         year  movieLength  totalSeriesLength  \\\n",
              "count  7.806000e+03  7806.000000  7806.000000  4056.000000         175.000000   \n",
              "mean   3.416267e+06     1.453241  2021.222777    80.430966         250.880000   \n",
              "std    1.756439e+06     0.976497     1.034918    49.687330         255.636129   \n",
              "min    8.062000e+03     1.000000  2020.000000     1.000000           3.000000   \n",
              "25%    1.371653e+06     1.000000  2020.000000    29.750000          48.000000   \n",
              "50%    4.483635e+06     1.000000  2021.000000    90.000000         270.000000   \n",
              "75%    4.948907e+06     1.000000  2022.000000   112.000000         300.000000   \n",
              "max    5.505876e+06     5.000000  2023.000000   480.000000        2208.000000   \n",
              "\n",
              "       seriesLength   ageRating  top10      top250  \n",
              "count    892.000000  777.000000    1.0   16.000000  \n",
              "mean      36.604260   16.658945    5.0  107.812500  \n",
              "std       22.863556    2.987651    NaN   74.736175  \n",
              "min        1.000000    0.000000    5.0   14.000000  \n",
              "25%       23.000000   16.000000    5.0   44.500000  \n",
              "50%       30.000000   18.000000    5.0   81.000000  \n",
              "75%       45.000000   18.000000    5.0  168.000000  \n",
              "max      178.000000   18.000000    5.0  231.000000  "
            ],
            "text/html": [
              "\n",
              "  <div id=\"df-a1d758c9-fe71-4496-9768-43e993915f93\" class=\"colab-df-container\">\n",
              "    <div>\n",
              "<style scoped>\n",
              "    .dataframe tbody tr th:only-of-type {\n",
              "        vertical-align: middle;\n",
              "    }\n",
              "\n",
              "    .dataframe tbody tr th {\n",
              "        vertical-align: top;\n",
              "    }\n",
              "\n",
              "    .dataframe thead th {\n",
              "        text-align: right;\n",
              "    }\n",
              "</style>\n",
              "<table border=\"1\" class=\"dataframe\">\n",
              "  <thead>\n",
              "    <tr style=\"text-align: right;\">\n",
              "      <th></th>\n",
              "      <th>id</th>\n",
              "      <th>typeNumber</th>\n",
              "      <th>year</th>\n",
              "      <th>movieLength</th>\n",
              "      <th>totalSeriesLength</th>\n",
              "      <th>seriesLength</th>\n",
              "      <th>ageRating</th>\n",
              "      <th>top10</th>\n",
              "      <th>top250</th>\n",
              "    </tr>\n",
              "  </thead>\n",
              "  <tbody>\n",
              "    <tr>\n",
              "      <th>count</th>\n",
              "      <td>7.806000e+03</td>\n",
              "      <td>7806.000000</td>\n",
              "      <td>7806.000000</td>\n",
              "      <td>4056.000000</td>\n",
              "      <td>175.000000</td>\n",
              "      <td>892.000000</td>\n",
              "      <td>777.000000</td>\n",
              "      <td>1.0</td>\n",
              "      <td>16.000000</td>\n",
              "    </tr>\n",
              "    <tr>\n",
              "      <th>mean</th>\n",
              "      <td>3.416267e+06</td>\n",
              "      <td>1.453241</td>\n",
              "      <td>2021.222777</td>\n",
              "      <td>80.430966</td>\n",
              "      <td>250.880000</td>\n",
              "      <td>36.604260</td>\n",
              "      <td>16.658945</td>\n",
              "      <td>5.0</td>\n",
              "      <td>107.812500</td>\n",
              "    </tr>\n",
              "    <tr>\n",
              "      <th>std</th>\n",
              "      <td>1.756439e+06</td>\n",
              "      <td>0.976497</td>\n",
              "      <td>1.034918</td>\n",
              "      <td>49.687330</td>\n",
              "      <td>255.636129</td>\n",
              "      <td>22.863556</td>\n",
              "      <td>2.987651</td>\n",
              "      <td>NaN</td>\n",
              "      <td>74.736175</td>\n",
              "    </tr>\n",
              "    <tr>\n",
              "      <th>min</th>\n",
              "      <td>8.062000e+03</td>\n",
              "      <td>1.000000</td>\n",
              "      <td>2020.000000</td>\n",
              "      <td>1.000000</td>\n",
              "      <td>3.000000</td>\n",
              "      <td>1.000000</td>\n",
              "      <td>0.000000</td>\n",
              "      <td>5.0</td>\n",
              "      <td>14.000000</td>\n",
              "    </tr>\n",
              "    <tr>\n",
              "      <th>25%</th>\n",
              "      <td>1.371653e+06</td>\n",
              "      <td>1.000000</td>\n",
              "      <td>2020.000000</td>\n",
              "      <td>29.750000</td>\n",
              "      <td>48.000000</td>\n",
              "      <td>23.000000</td>\n",
              "      <td>16.000000</td>\n",
              "      <td>5.0</td>\n",
              "      <td>44.500000</td>\n",
              "    </tr>\n",
              "    <tr>\n",
              "      <th>50%</th>\n",
              "      <td>4.483635e+06</td>\n",
              "      <td>1.000000</td>\n",
              "      <td>2021.000000</td>\n",
              "      <td>90.000000</td>\n",
              "      <td>270.000000</td>\n",
              "      <td>30.000000</td>\n",
              "      <td>18.000000</td>\n",
              "      <td>5.0</td>\n",
              "      <td>81.000000</td>\n",
              "    </tr>\n",
              "    <tr>\n",
              "      <th>75%</th>\n",
              "      <td>4.948907e+06</td>\n",
              "      <td>1.000000</td>\n",
              "      <td>2022.000000</td>\n",
              "      <td>112.000000</td>\n",
              "      <td>300.000000</td>\n",
              "      <td>45.000000</td>\n",
              "      <td>18.000000</td>\n",
              "      <td>5.0</td>\n",
              "      <td>168.000000</td>\n",
              "    </tr>\n",
              "    <tr>\n",
              "      <th>max</th>\n",
              "      <td>5.505876e+06</td>\n",
              "      <td>5.000000</td>\n",
              "      <td>2023.000000</td>\n",
              "      <td>480.000000</td>\n",
              "      <td>2208.000000</td>\n",
              "      <td>178.000000</td>\n",
              "      <td>18.000000</td>\n",
              "      <td>5.0</td>\n",
              "      <td>231.000000</td>\n",
              "    </tr>\n",
              "  </tbody>\n",
              "</table>\n",
              "</div>\n",
              "    <div class=\"colab-df-buttons\">\n",
              "\n",
              "  <div class=\"colab-df-container\">\n",
              "    <button class=\"colab-df-convert\" onclick=\"convertToInteractive('df-a1d758c9-fe71-4496-9768-43e993915f93')\"\n",
              "            title=\"Convert this dataframe to an interactive table.\"\n",
              "            style=\"display:none;\">\n",
              "\n",
              "  <svg xmlns=\"http://www.w3.org/2000/svg\" height=\"24px\" viewBox=\"0 -960 960 960\">\n",
              "    <path d=\"M120-120v-720h720v720H120Zm60-500h600v-160H180v160Zm220 220h160v-160H400v160Zm0 220h160v-160H400v160ZM180-400h160v-160H180v160Zm440 0h160v-160H620v160ZM180-180h160v-160H180v160Zm440 0h160v-160H620v160Z\"/>\n",
              "  </svg>\n",
              "    </button>\n",
              "\n",
              "  <style>\n",
              "    .colab-df-container {\n",
              "      display:flex;\n",
              "      gap: 12px;\n",
              "    }\n",
              "\n",
              "    .colab-df-convert {\n",
              "      background-color: #E8F0FE;\n",
              "      border: none;\n",
              "      border-radius: 50%;\n",
              "      cursor: pointer;\n",
              "      display: none;\n",
              "      fill: #1967D2;\n",
              "      height: 32px;\n",
              "      padding: 0 0 0 0;\n",
              "      width: 32px;\n",
              "    }\n",
              "\n",
              "    .colab-df-convert:hover {\n",
              "      background-color: #E2EBFA;\n",
              "      box-shadow: 0px 1px 2px rgba(60, 64, 67, 0.3), 0px 1px 3px 1px rgba(60, 64, 67, 0.15);\n",
              "      fill: #174EA6;\n",
              "    }\n",
              "\n",
              "    .colab-df-buttons div {\n",
              "      margin-bottom: 4px;\n",
              "    }\n",
              "\n",
              "    [theme=dark] .colab-df-convert {\n",
              "      background-color: #3B4455;\n",
              "      fill: #D2E3FC;\n",
              "    }\n",
              "\n",
              "    [theme=dark] .colab-df-convert:hover {\n",
              "      background-color: #434B5C;\n",
              "      box-shadow: 0px 1px 3px 1px rgba(0, 0, 0, 0.15);\n",
              "      filter: drop-shadow(0px 1px 2px rgba(0, 0, 0, 0.3));\n",
              "      fill: #FFFFFF;\n",
              "    }\n",
              "  </style>\n",
              "\n",
              "    <script>\n",
              "      const buttonEl =\n",
              "        document.querySelector('#df-a1d758c9-fe71-4496-9768-43e993915f93 button.colab-df-convert');\n",
              "      buttonEl.style.display =\n",
              "        google.colab.kernel.accessAllowed ? 'block' : 'none';\n",
              "\n",
              "      async function convertToInteractive(key) {\n",
              "        const element = document.querySelector('#df-a1d758c9-fe71-4496-9768-43e993915f93');\n",
              "        const dataTable =\n",
              "          await google.colab.kernel.invokeFunction('convertToInteractive',\n",
              "                                                    [key], {});\n",
              "        if (!dataTable) return;\n",
              "\n",
              "        const docLinkHtml = 'Like what you see? Visit the ' +\n",
              "          '<a target=\"_blank\" href=https://colab.research.google.com/notebooks/data_table.ipynb>data table notebook</a>'\n",
              "          + ' to learn more about interactive tables.';\n",
              "        element.innerHTML = '';\n",
              "        dataTable['output_type'] = 'display_data';\n",
              "        await google.colab.output.renderOutput(dataTable, element);\n",
              "        const docLink = document.createElement('div');\n",
              "        docLink.innerHTML = docLinkHtml;\n",
              "        element.appendChild(docLink);\n",
              "      }\n",
              "    </script>\n",
              "  </div>\n",
              "\n",
              "\n",
              "<div id=\"df-5c990f6a-bc7e-4df8-b076-e3b9161fdfe7\">\n",
              "  <button class=\"colab-df-quickchart\" onclick=\"quickchart('df-5c990f6a-bc7e-4df8-b076-e3b9161fdfe7')\"\n",
              "            title=\"Suggest charts\"\n",
              "            style=\"display:none;\">\n",
              "\n",
              "<svg xmlns=\"http://www.w3.org/2000/svg\" height=\"24px\"viewBox=\"0 0 24 24\"\n",
              "     width=\"24px\">\n",
              "    <g>\n",
              "        <path d=\"M19 3H5c-1.1 0-2 .9-2 2v14c0 1.1.9 2 2 2h14c1.1 0 2-.9 2-2V5c0-1.1-.9-2-2-2zM9 17H7v-7h2v7zm4 0h-2V7h2v10zm4 0h-2v-4h2v4z\"/>\n",
              "    </g>\n",
              "</svg>\n",
              "  </button>\n",
              "\n",
              "<style>\n",
              "  .colab-df-quickchart {\n",
              "      --bg-color: #E8F0FE;\n",
              "      --fill-color: #1967D2;\n",
              "      --hover-bg-color: #E2EBFA;\n",
              "      --hover-fill-color: #174EA6;\n",
              "      --disabled-fill-color: #AAA;\n",
              "      --disabled-bg-color: #DDD;\n",
              "  }\n",
              "\n",
              "  [theme=dark] .colab-df-quickchart {\n",
              "      --bg-color: #3B4455;\n",
              "      --fill-color: #D2E3FC;\n",
              "      --hover-bg-color: #434B5C;\n",
              "      --hover-fill-color: #FFFFFF;\n",
              "      --disabled-bg-color: #3B4455;\n",
              "      --disabled-fill-color: #666;\n",
              "  }\n",
              "\n",
              "  .colab-df-quickchart {\n",
              "    background-color: var(--bg-color);\n",
              "    border: none;\n",
              "    border-radius: 50%;\n",
              "    cursor: pointer;\n",
              "    display: none;\n",
              "    fill: var(--fill-color);\n",
              "    height: 32px;\n",
              "    padding: 0;\n",
              "    width: 32px;\n",
              "  }\n",
              "\n",
              "  .colab-df-quickchart:hover {\n",
              "    background-color: var(--hover-bg-color);\n",
              "    box-shadow: 0 1px 2px rgba(60, 64, 67, 0.3), 0 1px 3px 1px rgba(60, 64, 67, 0.15);\n",
              "    fill: var(--button-hover-fill-color);\n",
              "  }\n",
              "\n",
              "  .colab-df-quickchart-complete:disabled,\n",
              "  .colab-df-quickchart-complete:disabled:hover {\n",
              "    background-color: var(--disabled-bg-color);\n",
              "    fill: var(--disabled-fill-color);\n",
              "    box-shadow: none;\n",
              "  }\n",
              "\n",
              "  .colab-df-spinner {\n",
              "    border: 2px solid var(--fill-color);\n",
              "    border-color: transparent;\n",
              "    border-bottom-color: var(--fill-color);\n",
              "    animation:\n",
              "      spin 1s steps(1) infinite;\n",
              "  }\n",
              "\n",
              "  @keyframes spin {\n",
              "    0% {\n",
              "      border-color: transparent;\n",
              "      border-bottom-color: var(--fill-color);\n",
              "      border-left-color: var(--fill-color);\n",
              "    }\n",
              "    20% {\n",
              "      border-color: transparent;\n",
              "      border-left-color: var(--fill-color);\n",
              "      border-top-color: var(--fill-color);\n",
              "    }\n",
              "    30% {\n",
              "      border-color: transparent;\n",
              "      border-left-color: var(--fill-color);\n",
              "      border-top-color: var(--fill-color);\n",
              "      border-right-color: var(--fill-color);\n",
              "    }\n",
              "    40% {\n",
              "      border-color: transparent;\n",
              "      border-right-color: var(--fill-color);\n",
              "      border-top-color: var(--fill-color);\n",
              "    }\n",
              "    60% {\n",
              "      border-color: transparent;\n",
              "      border-right-color: var(--fill-color);\n",
              "    }\n",
              "    80% {\n",
              "      border-color: transparent;\n",
              "      border-right-color: var(--fill-color);\n",
              "      border-bottom-color: var(--fill-color);\n",
              "    }\n",
              "    90% {\n",
              "      border-color: transparent;\n",
              "      border-bottom-color: var(--fill-color);\n",
              "    }\n",
              "  }\n",
              "</style>\n",
              "\n",
              "  <script>\n",
              "    async function quickchart(key) {\n",
              "      const quickchartButtonEl =\n",
              "        document.querySelector('#' + key + ' button');\n",
              "      quickchartButtonEl.disabled = true;  // To prevent multiple clicks.\n",
              "      quickchartButtonEl.classList.add('colab-df-spinner');\n",
              "      try {\n",
              "        const charts = await google.colab.kernel.invokeFunction(\n",
              "            'suggestCharts', [key], {});\n",
              "      } catch (error) {\n",
              "        console.error('Error during call to suggestCharts:', error);\n",
              "      }\n",
              "      quickchartButtonEl.classList.remove('colab-df-spinner');\n",
              "      quickchartButtonEl.classList.add('colab-df-quickchart-complete');\n",
              "    }\n",
              "    (() => {\n",
              "      let quickchartButtonEl =\n",
              "        document.querySelector('#df-5c990f6a-bc7e-4df8-b076-e3b9161fdfe7 button');\n",
              "      quickchartButtonEl.style.display =\n",
              "        google.colab.kernel.accessAllowed ? 'block' : 'none';\n",
              "    })();\n",
              "  </script>\n",
              "</div>\n",
              "    </div>\n",
              "  </div>\n"
            ],
            "application/vnd.google.colaboratory.intrinsic+json": {
              "type": "dataframe",
              "summary": "{\n  \"name\": \"movies_df\",\n  \"rows\": 8,\n  \"fields\": [\n    {\n      \"column\": \"id\",\n      \"properties\": {\n        \"dtype\": \"number\",\n        \"std\": 2196519.4148676894,\n        \"min\": 7806.0,\n        \"max\": 5505876.0,\n        \"num_unique_values\": 8,\n        \"samples\": [\n          3416266.5064053293,\n          4483635.0,\n          7806.0\n        ],\n        \"semantic_type\": \"\",\n        \"description\": \"\"\n      }\n    },\n    {\n      \"column\": \"typeNumber\",\n      \"properties\": {\n        \"dtype\": \"number\",\n        \"std\": 2759.26082496378,\n        \"min\": 0.9764972242605837,\n        \"max\": 7806.0,\n        \"num_unique_values\": 5,\n        \"samples\": [\n          1.4532410965923648,\n          5.0,\n          0.9764972242605837\n        ],\n        \"semantic_type\": \"\",\n        \"description\": \"\"\n      }\n    },\n    {\n      \"column\": \"year\",\n      \"properties\": {\n        \"dtype\": \"number\",\n        \"std\": 2260.6384639387147,\n        \"min\": 1.0349182370930214,\n        \"max\": 7806.0,\n        \"num_unique_values\": 7,\n        \"samples\": [\n          7806.0,\n          2021.222777350756,\n          2022.0\n        ],\n        \"semantic_type\": \"\",\n        \"description\": \"\"\n      }\n    },\n    {\n      \"column\": \"movieLength\",\n      \"properties\": {\n        \"dtype\": \"number\",\n        \"std\": 1399.5989328865453,\n        \"min\": 1.0,\n        \"max\": 4056.0,\n        \"num_unique_values\": 8,\n        \"samples\": [\n          80.43096646942801,\n          90.0,\n          4056.0\n        ],\n        \"semantic_type\": \"\",\n        \"description\": \"\"\n      }\n    },\n    {\n      \"column\": \"totalSeriesLength\",\n      \"properties\": {\n        \"dtype\": \"number\",\n        \"std\": 722.9826285632317,\n        \"min\": 3.0,\n        \"max\": 2208.0,\n        \"num_unique_values\": 8,\n        \"samples\": [\n          250.88,\n          270.0,\n          175.0\n        ],\n        \"semantic_type\": \"\",\n        \"description\": \"\"\n      }\n    },\n    {\n      \"column\": \"seriesLength\",\n      \"properties\": {\n        \"dtype\": \"number\",\n        \"std\": 303.3206617921686,\n        \"min\": 1.0,\n        \"max\": 892.0,\n        \"num_unique_values\": 8,\n        \"samples\": [\n          36.6042600896861,\n          30.0,\n          892.0\n        ],\n        \"semantic_type\": \"\",\n        \"description\": \"\"\n      }\n    },\n    {\n      \"column\": \"ageRating\",\n      \"properties\": {\n        \"dtype\": \"number\",\n        \"std\": 270.279988774311,\n        \"min\": 0.0,\n        \"max\": 777.0,\n        \"num_unique_values\": 6,\n        \"samples\": [\n          777.0,\n          16.65894465894466,\n          18.0\n        ],\n        \"semantic_type\": \"\",\n        \"description\": \"\"\n      }\n    },\n    {\n      \"column\": \"top10\",\n      \"properties\": {\n        \"dtype\": \"number\",\n        \"std\": 1.511857892036909,\n        \"min\": 1.0,\n        \"max\": 5.0,\n        \"num_unique_values\": 2,\n        \"samples\": [\n          5.0,\n          1.0\n        ],\n        \"semantic_type\": \"\",\n        \"description\": \"\"\n      }\n    },\n    {\n      \"column\": \"top250\",\n      \"properties\": {\n        \"dtype\": \"number\",\n        \"std\": 75.48149002021043,\n        \"min\": 14.0,\n        \"max\": 231.0,\n        \"num_unique_values\": 8,\n        \"samples\": [\n          107.8125,\n          81.0\n        ],\n        \"semantic_type\": \"\",\n        \"description\": \"\"\n      }\n    }\n  ]\n}"
            }
          },
          "metadata": {},
          "execution_count": 8
        }
      ]
    },
    {
      "cell_type": "code",
      "source": [
        "movies_df.shape"
      ],
      "metadata": {
        "colab": {
          "base_uri": "https://localhost:8080/"
        },
        "id": "XD31xWXDvLp5",
        "outputId": "9c8d3f09-7550-47c3-f299-9711f469e5db"
      },
      "execution_count": 20,
      "outputs": [
        {
          "output_type": "execute_result",
          "data": {
            "text/plain": [
              "(7806, 28)"
            ]
          },
          "metadata": {},
          "execution_count": 20
        }
      ]
    },
    {
      "cell_type": "markdown",
      "source": [
        "# 2. Data Cleaning\n",
        "\n",
        "- Handle missing values: Identify and handle any missing values in the dataset.\n",
        "\n",
        "- Data type conversion: Check and convert data types if necessary (e.g., converting release years to datetime format)."
      ],
      "metadata": {
        "id": "vFZ5KYHptG4-"
      }
    },
    {
      "cell_type": "code",
      "source": [
        "movies_df.isnull().sum()"
      ],
      "metadata": {
        "colab": {
          "base_uri": "https://localhost:8080/"
        },
        "id": "Vk1xTDM9s40v",
        "outputId": "c0bd8cf1-d469-4501-cfe4-d05eb87b694e"
      },
      "execution_count": 13,
      "outputs": [
        {
          "output_type": "execute_result",
          "data": {
            "text/plain": [
              "id                      0\n",
              "name                 5082\n",
              "alternativeName       129\n",
              "enName               7635\n",
              "names                   4\n",
              "type                    0\n",
              "typeNumber              0\n",
              "year                    0\n",
              "description          5871\n",
              "shortDescription     7366\n",
              "status               6474\n",
              "rating                  0\n",
              "votes                   0\n",
              "movieLength          3750\n",
              "totalSeriesLength    7631\n",
              "seriesLength         6914\n",
              "ratingMpaa           7392\n",
              "ageRating            7029\n",
              "poster                  5\n",
              "backdrop                8\n",
              "genres                  0\n",
              "countries               2\n",
              "top10                7805\n",
              "top250               7790\n",
              "isSeries                0\n",
              "ticketsOnSale           0\n",
              "logo                 1888\n",
              "releaseYears         4908\n",
              "dtype: int64"
            ]
          },
          "metadata": {},
          "execution_count": 13
        }
      ]
    },
    {
      "cell_type": "markdown",
      "source": [
        "1. Handling missing values. We can drop the columns with more than 70% missing value as they cannot affect to the analysis.\n",
        "\n",
        "\n",
        "2. ReleaseYears: Convert the \"releaseYears\" column to datetime format if it contains dates or years."
      ],
      "metadata": {
        "id": "GG2yXVALt2ve"
      }
    },
    {
      "cell_type": "code",
      "source": [
        "missing_percentage = (movies_df.isnull().sum() / len(movies_df)) * 100\n",
        "columns_to_drop = missing_percentage[missing_percentage > 70].index\n",
        "\n",
        "movies_df.drop(columns=columns_to_drop, inplace=True)"
      ],
      "metadata": {
        "id": "H7DU0dHcv2K6"
      },
      "execution_count": 21,
      "outputs": []
    },
    {
      "cell_type": "code",
      "source": [
        "print(movies_df.columns)\n"
      ],
      "metadata": {
        "colab": {
          "base_uri": "https://localhost:8080/"
        },
        "id": "dogeKC9Vv_1i",
        "outputId": "a5d62dd7-4e2e-432b-8d25-47fbd98887f9"
      },
      "execution_count": 11,
      "outputs": [
        {
          "output_type": "stream",
          "name": "stdout",
          "text": [
            "Index(['id', 'name', 'alternativeName', 'names', 'type', 'typeNumber', 'year',\n",
            "       'rating', 'votes', 'movieLength', 'poster', 'backdrop', 'genres',\n",
            "       'countries', 'isSeries', 'ticketsOnSale', 'logo', 'releaseYears',\n",
            "       'first_country'],\n",
            "      dtype='object')\n"
          ]
        }
      ]
    },
    {
      "cell_type": "code",
      "source": [
        "movies_df.shape"
      ],
      "metadata": {
        "colab": {
          "base_uri": "https://localhost:8080/"
        },
        "id": "n6ycWGKWv719",
        "outputId": "53fe41c0-544f-4ebc-92b5-c682f7efe2bc"
      },
      "execution_count": 22,
      "outputs": [
        {
          "output_type": "execute_result",
          "data": {
            "text/plain": [
              "(7806, 18)"
            ]
          },
          "metadata": {},
          "execution_count": 22
        }
      ]
    },
    {
      "cell_type": "code",
      "source": [
        "print(movies_df.isnull().sum())"
      ],
      "metadata": {
        "colab": {
          "base_uri": "https://localhost:8080/"
        },
        "id": "NIR74hDKu791",
        "outputId": "c6fea39d-8edf-4dd0-e320-523a879ba490"
      },
      "execution_count": 23,
      "outputs": [
        {
          "output_type": "stream",
          "name": "stdout",
          "text": [
            "id                    0\n",
            "name               5082\n",
            "alternativeName     129\n",
            "names                 4\n",
            "type                  0\n",
            "typeNumber            0\n",
            "year                  0\n",
            "rating                0\n",
            "votes                 0\n",
            "movieLength        3750\n",
            "poster                5\n",
            "backdrop              8\n",
            "genres                0\n",
            "countries             2\n",
            "isSeries              0\n",
            "ticketsOnSale         0\n",
            "logo               1888\n",
            "releaseYears       4908\n",
            "dtype: int64\n"
          ]
        }
      ]
    },
    {
      "cell_type": "code",
      "source": [
        "# Fill missing values in textual columns with \"Unknown\"\n",
        "movies_df['name'].fillna('Unknown', inplace=True)\n",
        "movies_df['alternativeName'].fillna('Unknown', inplace=True)\n",
        "\n",
        "# Fill missing values in numerical columns with the median\n",
        "movies_df['movieLength'].fillna(movies_df['movieLength'].median(), inplace=True)\n",
        "\n",
        "# Fill missing values in URL columns with \"Not available\"\n",
        "movies_df['poster'].fillna('Not available', inplace=True)\n",
        "movies_df['backdrop'].fillna('Not available', inplace=True)\n",
        "movies_df['logo'].fillna('Not available', inplace=True)\n",
        "\n",
        "# Fill missing values in releaseYears with datetime.min\n",
        "movies_df['releaseYears'].fillna(0, inplace=True)\n",
        "\n",
        "# Check if all missing values are handled\n",
        "print(movies_df.isnull().sum())"
      ],
      "metadata": {
        "colab": {
          "base_uri": "https://localhost:8080/"
        },
        "id": "2-Cima1wu9Tn",
        "outputId": "4a9a6900-e80f-48ce-8f79-5eef5e290196"
      },
      "execution_count": 24,
      "outputs": [
        {
          "output_type": "stream",
          "name": "stdout",
          "text": [
            "id                 0\n",
            "name               0\n",
            "alternativeName    0\n",
            "names              4\n",
            "type               0\n",
            "typeNumber         0\n",
            "year               0\n",
            "rating             0\n",
            "votes              0\n",
            "movieLength        0\n",
            "poster             0\n",
            "backdrop           0\n",
            "genres             0\n",
            "countries          2\n",
            "isSeries           0\n",
            "ticketsOnSale      0\n",
            "logo               0\n",
            "releaseYears       0\n",
            "dtype: int64\n"
          ]
        }
      ]
    },
    {
      "cell_type": "code",
      "source": [
        "movies_df.shape"
      ],
      "metadata": {
        "colab": {
          "base_uri": "https://localhost:8080/"
        },
        "id": "ApS0K73_vCo_",
        "outputId": "5f880fef-73a3-44c3-f8fb-332b5f2e2338"
      },
      "execution_count": 25,
      "outputs": [
        {
          "output_type": "execute_result",
          "data": {
            "text/plain": [
              "(7806, 18)"
            ]
          },
          "metadata": {},
          "execution_count": 25
        }
      ]
    },
    {
      "cell_type": "markdown",
      "source": [
        "# 3.  Exploratory Data Analysis (EDA)\n",
        "\n",
        "1. **Genre Distribution**\n",
        "   - We'll start by exploring the distribution of movie genres to understand the most popular genres in the dataset.\n",
        "   - Visualize the genre distribution using bar charts or pie charts.\n",
        "\n",
        "2. **Country-wise Analysis**\n",
        "   - Analyze the distribution of movies by country of production to identify the top movie-producing countries.\n",
        "   - Visualize the distribution of movies across different countries using bar charts or geographical maps.\n",
        "\n",
        "3. **Movie Length Distribution**\n",
        "   - Explore the distribution of movie lengths (in minutes) to understand the typical duration of movies in the dataset.\n",
        "   - Plot histograms or box plots to visualize the distribution of movie lengths.\n",
        "\n",
        "4. **Rating Analysis**\n",
        "   - Analyze the distribution of movie ratings to understand the overall rating distribution in the dataset.\n",
        "   - Calculate descriptive statistics such as mean, median, and mode of movie ratings.\n",
        "\n",
        "5. **Poster and Backdrop Analysis**\n",
        "   - Explore the availability of posters and backdrops for movies in the dataset.\n",
        "   - Analyze the distribution of poster and backdrop URLs to identify any patterns or trends.\n",
        "\n",
        "6. **Series vs. Movies Analysis**\n",
        "    - Compare the distribution of movies and TV series in the dataset.\n",
        "    - Analyze differences in attributes such as movie length, rating, and votes between movies and TV series.\n"
      ],
      "metadata": {
        "id": "1biIYR6_wiba"
      }
    },
    {
      "cell_type": "markdown",
      "source": [
        "### 1. Genre Distribution"
      ],
      "metadata": {
        "id": "aDPgwFehx0m-"
      }
    },
    {
      "cell_type": "code",
      "source": [
        "import matplotlib.pyplot as plt\n",
        "\n",
        "genres_list = []\n",
        "\n",
        "for genres in movies_df['genres']:\n",
        "    for genre in genres:\n",
        "        genres_list.append(genre['name'])\n",
        "\n",
        "genre_counts = pd.Series(genres_list).value_counts()\n",
        "\n",
        "plt.figure(figsize=(10, 6))\n",
        "genre_counts.plot(kind='bar', color='skyblue')\n",
        "plt.title('Genre Distribution')\n",
        "plt.xlabel('Genre')\n",
        "plt.ylabel('Frequency')\n",
        "plt.xticks(rotation=45, ha='right')\n",
        "plt.tight_layout()\n",
        "plt.show()"
      ],
      "metadata": {
        "colab": {
          "base_uri": "https://localhost:8080/",
          "height": 402
        },
        "id": "NYeUpgjbxkEL",
        "outputId": "c6ec6516-e92b-497a-9f03-32e3b24fbcfc"
      },
      "execution_count": 36,
      "outputs": [
        {
          "output_type": "display_data",
          "data": {
            "text/plain": [
              "<Figure size 1000x600 with 1 Axes>"
            ],
            "image/png": "[encoded data removed]"
          },
          "metadata": {}
        }
      ]
    },
    {
      "cell_type": "markdown",
      "source": [
        "### 2. Country-wise Analysis"
      ],
      "metadata": {
        "id": "UMBQUnmOyDFF"
      }
    },
    {
      "cell_type": "code",
      "source": [
        "movies_df['countries']"
      ],
      "metadata": {
        "colab": {
          "base_uri": "https://localhost:8080/"
        },
        "id": "soViX4pHypx3",
        "outputId": "611a96fb-9bce-4445-ac42-b4557d0cee35"
      },
      "execution_count": 39,
      "outputs": [
        {
          "output_type": "execute_result",
          "data": {
            "text/plain": [
              "0           [{'name': 'Великобритания'}, {'name': 'США'}]\n",
              "1       [{'name': 'Великобритания'}, {'name': 'Испания...\n",
              "2       [{'name': 'США'}, {'name': 'Канада'}, {'name':...\n",
              "3           [{'name': 'Великобритания'}, {'name': 'США'}]\n",
              "4                   [{'name': 'США'}, {'name': 'Канада'}]\n",
              "                              ...                        \n",
              "7801                                    [{'name': 'США'}]\n",
              "7802                                 [{'name': 'Канада'}]\n",
              "7803                                    [{'name': 'США'}]\n",
              "7804                               [{'name': 'Бразилия'}]\n",
              "7805                                    [{'name': 'США'}]\n",
              "Name: countries, Length: 7806, dtype: object"
            ]
          },
          "metadata": {},
          "execution_count": 39
        }
      ]
    },
    {
      "cell_type": "markdown",
      "source": [
        "### 3. Movie Length Distribution"
      ],
      "metadata": {
        "id": "CyN0YCH3w2mo"
      }
    },
    {
      "cell_type": "code",
      "source": [
        "movies_df.columns"
      ],
      "metadata": {
        "colab": {
          "base_uri": "https://localhost:8080/"
        },
        "id": "0T3HN5kqwueW",
        "outputId": "c4d3d911-f1d5-4422-f9da-2fbbce30ee9d"
      },
      "execution_count": 9,
      "outputs": [
        {
          "output_type": "execute_result",
          "data": {
            "text/plain": [
              "Index(['id', 'name', 'alternativeName', 'enName', 'names', 'type',\n",
              "       'typeNumber', 'year', 'description', 'shortDescription', 'status',\n",
              "       'rating', 'votes', 'movieLength', 'totalSeriesLength', 'seriesLength',\n",
              "       'ratingMpaa', 'ageRating', 'poster', 'backdrop', 'genres', 'countries',\n",
              "       'top10', 'top250', 'isSeries', 'ticketsOnSale', 'logo', 'releaseYears',\n",
              "       'first_country'],\n",
              "      dtype='object')"
            ]
          },
          "metadata": {},
          "execution_count": 9
        }
      ]
    },
    {
      "cell_type": "code",
      "source": [
        "plt.figure(figsize=(10, 6))\n",
        "plt.hist(movies_df['movieLength'].dropna(), bins=30, color='skyblue', edgecolor='black')\n",
        "plt.title('Distribution of Movie Lengths')\n",
        "plt.xlabel('Movie Length (minutes)')\n",
        "plt.ylabel('Number of Movies')\n",
        "plt.grid(True)\n",
        "plt.show()"
      ],
      "metadata": {
        "colab": {
          "base_uri": "https://localhost:8080/",
          "height": 424
        },
        "id": "gRzwtvZrw6GW",
        "outputId": "d722e75a-b40d-4655-a8ad-f6f1339ef55b"
      },
      "execution_count": 26,
      "outputs": [
        {
          "output_type": "display_data",
          "data": {
            "text/plain": [
              "<Figure size 1000x600 with 1 Axes>"
            ],
            "image/png": "[encoded data removed]"
          },
          "metadata": {}
        }
      ]
    },
    {
      "cell_type": "markdown",
      "source": [
        "### 4. Rating analysis"
      ],
      "metadata": {
        "id": "wf1OLyZ_yvma"
      }
    },
    {
      "cell_type": "code",
      "source": [
        "movies_df['rating'] = movies_df['rating'].apply(lambda x: x.get('imdb') if isinstance(x, dict) else x)\n",
        "\n",
        "plt.figure(figsize=(10, 6))\n",
        "plt.hist(movies_df['rating'].dropna(), bins=20, color='salmon', edgecolor='black')\n",
        "plt.title('Distribution of Movie Ratings')\n",
        "plt.xlabel('Rating')\n",
        "plt.ylabel('Number of Movies')\n",
        "plt.grid(True)\n",
        "plt.show()"
      ],
      "metadata": {
        "colab": {
          "base_uri": "https://localhost:8080/",
          "height": 427
        },
        "id": "Up2aplJZyEyd",
        "outputId": "65c29f40-f297-4c44-846a-7da2ac59bf59"
      },
      "execution_count": 28,
      "outputs": [
        {
          "output_type": "display_data",
          "data": {
            "text/plain": [
              "<Figure size 1000x600 with 1 Axes>"
            ],
            "image/png": "[encoded data removed]"
          },
          "metadata": {}
        }
      ]
    },
    {
      "cell_type": "markdown",
      "source": [
        "### 5. Poster and Backdrop Analysis"
      ],
      "metadata": {
        "id": "O9eJgJ6_0KEy"
      }
    },
    {
      "cell_type": "code",
      "source": [
        "poster_counts = movies_df['poster'].notna().sum()\n",
        "backdrop_counts = movies_df['backdrop'].notna().sum()\n",
        "\n",
        "print(\"Number of movies with poster URLs:\", poster_counts)\n",
        "print(\"Number of movies with backdrop URLs:\", backdrop_counts)\n",
        "\n",
        "# Plotting distribution of poster and backdrop availability\n",
        "plt.figure(figsize=(10, 6))\n",
        "plt.bar(['Poster', 'Backdrop'], [poster_counts, backdrop_counts], color=['skyblue', 'salmon'])\n",
        "plt.title('Availability of Posters and Backdrops')\n",
        "plt.xlabel('Type')\n",
        "plt.ylabel('Number of Movies')\n",
        "plt.grid(axis='y', linestyle='--', alpha=0.7)\n",
        "plt.show()"
      ],
      "metadata": {
        "colab": {
          "base_uri": "https://localhost:8080/",
          "height": 462
        },
        "id": "mJSipigtzd5Q",
        "outputId": "ec046e1e-252e-472a-907d-388512d9b7bd"
      },
      "execution_count": 29,
      "outputs": [
        {
          "output_type": "stream",
          "name": "stdout",
          "text": [
            "Number of movies with poster URLs: 7806\n",
            "Number of movies with backdrop URLs: 7806\n"
          ]
        },
        {
          "output_type": "display_data",
          "data": {
            "text/plain": [
              "<Figure size 1000x600 with 1 Axes>"
            ],
            "image/png": "[encoded data removed]"
          },
          "metadata": {}
        }
      ]
    },
    {
      "cell_type": "markdown",
      "source": [
        "### 6. Series vs. Movies Analysis"
      ],
      "metadata": {
        "id": "qfAc19cC03gA"
      }
    },
    {
      "cell_type": "code",
      "source": [
        "movies = movies_df[movies_df['isSeries'] == False]\n",
        "tv_series = movies_df[movies_df['isSeries'] == True]\n",
        "\n",
        "# Analyze the distribution of movies and TV series\n",
        "movies_count = len(movies)\n",
        "tv_series_count = len(tv_series)\n",
        "\n",
        "# Print the counts\n",
        "print(\"Number of movies:\", movies_count)\n",
        "print(\"Number of TV series:\", tv_series_count)\n",
        "\n",
        "# Plotting distribution of movies and TV series\n",
        "plt.figure(figsize=(10, 6))\n",
        "plt.bar(['Movies', 'TV Series'], [movies_count, tv_series_count], color=['skyblue', 'salmon'])\n",
        "plt.title('Distribution of Movies and TV Series')\n",
        "plt.xlabel('Type')\n",
        "plt.ylabel('Number of Titles')\n",
        "plt.grid(axis='y', linestyle='--', alpha=0.7)\n",
        "plt.show()"
      ],
      "metadata": {
        "colab": {
          "base_uri": "https://localhost:8080/",
          "height": 462
        },
        "id": "jfUJwmAE0jyp",
        "outputId": "f1717604-775a-4d3a-fc23-f352b6d0cc09"
      },
      "execution_count": 30,
      "outputs": [
        {
          "output_type": "stream",
          "name": "stdout",
          "text": [
            "Number of movies: 6212\n",
            "Number of TV series: 1594\n"
          ]
        },
        {
          "output_type": "display_data",
          "data": {
            "text/plain": [
              "<Figure size 1000x600 with 1 Axes>"
            ],
            "image/png": "[encoded data removed]"
          },
          "metadata": {}
        }
      ]
    },
    {
      "cell_type": "code",
      "source": [
        "# Compare attributes between movies and TV series\n",
        "movies_stats = movies[['movieLength', 'rating', 'votes']].describe()\n",
        "tv_series_stats = tv_series[['movieLength', 'rating', 'votes']].describe()\n",
        "\n",
        "# Print descriptive statistics\n",
        "print(\"\\nDescriptive Statistics for Movies:\")\n",
        "print(movies_stats)\n",
        "print(\"\\nDescriptive Statistics for TV Series:\")\n",
        "print(tv_series_stats)"
      ],
      "metadata": {
        "colab": {
          "base_uri": "https://localhost:8080/"
        },
        "id": "ZqiHIVbY09ZS",
        "outputId": "538c5105-7210-4884-d5d2-2840686914f6"
      },
      "execution_count": 32,
      "outputs": [
        {
          "output_type": "stream",
          "name": "stdout",
          "text": [
            "\n",
            "Descriptive Statistics for Movies:\n",
            "       movieLength       rating\n",
            "count  6212.000000  6212.000000\n",
            "mean     83.752093     2.839713\n",
            "std      40.405305     3.161815\n",
            "min       1.000000     0.000000\n",
            "25%      81.000000     0.000000\n",
            "50%      90.000000     0.000000\n",
            "75%      98.000000     5.900000\n",
            "max     480.000000    10.000000\n",
            "\n",
            "Descriptive Statistics for TV Series:\n",
            "       movieLength       rating\n",
            "count       1594.0  1594.000000\n",
            "mean          90.0     4.426412\n",
            "std            0.0     3.445854\n",
            "min           90.0     0.000000\n",
            "25%           90.0     0.000000\n",
            "50%           90.0     6.200000\n",
            "75%           90.0     7.300000\n",
            "max           90.0     9.900000\n"
          ]
        }
      ]
    },
    {
      "cell_type": "code",
      "source": [],
      "metadata": {
        "id": "ywysg5YB1H5c"
      },
      "execution_count": null,
      "outputs": []
    }
  ]
}