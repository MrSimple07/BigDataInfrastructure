{
  "nbformat": 4,
  "nbformat_minor": 0,
  "metadata": {
    "colab": {
      "provenance": [],
      "authorship_tag": "ABX9TyPbC+mSzWxfIdWF6OGlBYXF",
      "include_colab_link": true
    },
    "kernelspec": {
      "name": "python3",
      "display_name": "Python 3"
    },
    "language_info": {
      "name": "python"
    }
  },
  "cells": [
    {
      "cell_type": "markdown",
      "metadata": {
        "id": "view-in-github",
        "colab_type": "text"
      },
      "source": [
        "<a href=\"https://colab.research.google.com/github/MrSimple07/Big_Data_Technologies/blob/main/BigDataTechnologies_practice.ipynb\" target=\"_parent\"><img src=\"https://colab.research.google.com/assets/colab-badge.svg\" alt=\"Open In Colab\"/></a>"
      ]
    },
    {
      "cell_type": "markdown",
      "source": [
        "# Basic Consepts of Big Data\n",
        "\n",
        "## 1. What is Big Data? History of Big Data, V-concepts\n",
        "\n",
        "\n",
        "## 2. Streaming solutions for Big Data.\n",
        "\n",
        "## 3. Storages and resource managers - supplementary tools"
      ],
      "metadata": {
        "id": "QLxze36700nX"
      }
    },
    {
      "cell_type": "markdown",
      "source": [
        "## 4. What is HDFS? HDFS Architecture. What is a chunk? How are chunks being processed into records? How to customize the way chunks are being processed?\n",
        "\n",
        "## 5. Replica in HDFS. Safe mode. NameNode. DataNode.\n",
        "\n",
        "## 6. CAP theorem. Communication Protocols. Data consistency."
      ],
      "metadata": {
        "id": "eUe4qFBM1U2L"
      }
    },
    {
      "cell_type": "markdown",
      "source": [
        "## 7. Data Formats: txt, csv, binary, json, parquet. What's better?"
      ],
      "metadata": {
        "id": "yGuDx_pZ1dbd"
      }
    },
    {
      "cell_type": "markdown",
      "source": [
        "# Apache Spark\n",
        "\n",
        "## 1. What is Apache Spark? Which components does its architecture consist of?\n",
        "\n",
        "## 2. What is RDD? Which principal components does it consist of? What is a transformation? What is an action?\n",
        "\n",
        "## 3. What is RDD lineage? How is it formed? How can different RDD lineages be combined?\n",
        "\n",
        "## 4. What is a partition in RDD? How does a partition in RDD relate to a partition in HDFS?"
      ],
      "metadata": {
        "id": "YCC9RNNJ1hb8"
      }
    },
    {
      "cell_type": "markdown",
      "source": [
        "## 5. What is broadcast and a broadcasting variable in Apache Spark? What goals does it serve? Give an example of its usage.\n",
        "\n",
        "## 6. What is caching and persistence in Apache Spark? What is the difference between caching and persistence in Apache Spark? Which modes of persistence exist? What is spillover?\n",
        "\n",
        "\n",
        "## 7. What is shuffling? Explain how it works."
      ],
      "metadata": {
        "id": "kLfeczZG1wkf"
      }
    },
    {
      "cell_type": "markdown",
      "source": [
        "# Spark\n",
        "\n",
        "## 1. What is SparkSQL? What is SparkSession? What is DataFrame? What is Column? Name differences between RDD and DataFrame. What is Tungsten?\n",
        "\n",
        "## 2. UDF in Spark SQL. How to write an UDF (give a simple example)? What pitfalls should you be aware about when writing a custom udf?\n",
        "\n",
        "## 3. What is a schema of DataFrame? How to get a schema of DataFrame? What is groupby and how does it work?\n",
        "\n",
        "## 4.Supported join operations in Spark SQL. Broadcast joins. Basic principles of functioning. Which types of broadcast-based joins exist and what are the differences in their functioning? Conditions of when one can apply these types of joins.\n",
        "\n",
        "## 5. Sort Merge Join. What is it for? Basic principles of functioning. Conditions of when one can apply these types of joins. Advantages and disadvantages in comparison with other joins.\n",
        "\n",
        "## 6. Bucketing: what it is, its advantages and basic principles of functioning."
      ],
      "metadata": {
        "id": "LBq67JkE12LI"
      }
    },
    {
      "cell_type": "markdown",
      "source": [
        "# ClickHouse\n",
        "\n",
        "## 1.What is ClickHouse? Which components does its architecture consist of?\n",
        "\n",
        "## 2. What is Materialized View and what is its purpose? How does Materialized Views work? Does it make sense to create a materialized view over a distributed table? If the answer is positive, why?\n",
        "\n",
        "## 3. Describe MergeTree engine work principles. How does ClickHouse store data in the filesystem? How does parts merging works from in terms of files?\n",
        "\n",
        "## 4. What is sharding, why is it useful and how is it implemented in ClickHouse? How can one distribute data into shards using ClickHouse?\n",
        "\n",
        "## 5. How does AggregatingMergeTree work? Are there any differences between aggregation functions in AggregatingMergeTree and simple queries?\n",
        "\n",
        "## 6. Why is it recommended inserting data into ClickHouse by large batches? What can one do if data arrives in short portions frequently? Name and explain existing mechanisms in ClickHouse to deal with the problem.\n",
        "\n",
        "## 7. Describe sparse index work principles. How is it implemented in ClickHouse? How can we set up indexes in ClickHouse?"
      ],
      "metadata": {
        "id": "g01UoBuc2WbD"
      }
    },
    {
      "cell_type": "markdown",
      "source": [
        "# Kubernetes\n",
        "\n",
        "## 1. What is Kubernetes? Its architecture, main components.\n",
        "\n",
        "## 2. What is Pod? Difference between pod and container.\n",
        "\n",
        "## 3. What is Service? How does it work? Service types: nodeport, clusterip, headless service.\n",
        "\n",
        "## 4. Container resources: how is it implemented? CPU, RAM, Storage. QoS classes.\n",
        "\n",
        "## 5. PV & PVC: what is it and how does it work? PV types. Volume provisioner.\n",
        "\n",
        "## 6. StatefulSet. Difference from Deployment/Pod.\n",
        "\n",
        "## 7. Label selector. What is it? How is it used?"
      ],
      "metadata": {
        "id": "1D9jUmwq2niK"
      }
    },
    {
      "cell_type": "markdown",
      "source": [
        "# Data Processing Frameworks:\n",
        "\n",
        "- Hadoop\n",
        "- Spark"
      ],
      "metadata": {
        "id": "isd9WVSAW5f5"
      }
    },
    {
      "cell_type": "code",
      "execution_count": null,
      "metadata": {
        "id": "q7iHEtxiWb9q"
      },
      "outputs": [],
      "source": []
    },
    {
      "cell_type": "markdown",
      "source": [
        "# Kubernetes"
      ],
      "metadata": {
        "id": "ahJMFT5FXA8C"
      }
    },
    {
      "cell_type": "code",
      "source": [],
      "metadata": {
        "id": "N7A6PzkGXB9E"
      },
      "execution_count": null,
      "outputs": []
    },
    {
      "cell_type": "code",
      "source": [],
      "metadata": {
        "id": "yAznGOFwXOXe"
      },
      "execution_count": null,
      "outputs": []
    }
  ]
}